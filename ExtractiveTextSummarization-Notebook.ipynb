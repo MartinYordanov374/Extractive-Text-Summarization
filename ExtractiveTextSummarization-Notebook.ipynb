{
 "cells": [
  {
   "cell_type": "markdown",
   "id": "02b690ef",
   "metadata": {},
   "source": [
    "<h1>Extractive text summarization in python</h1>"
   ]
  },
  {
   "cell_type": "markdown",
   "id": "2525e439",
   "metadata": {},
   "source": [
    "<p>Extractive text summarization is a \"technique\" for summarizing text data. What's characteristic for this kind of summarization is that the summary it produces is a carbon copy of the most important sentences given in the text to be summarized.</p>\n",
    "\n",
    "<p>The way I achieve this here is through using term frequency - inverse document frequency(TF-IDF) over the entire text body. In short, the text input data is taken, it is split into different sentences, and TF-IDF calculation os executed over each sentence. All the TF-IDF scores are, then, saved in a list and sorted from highest to lowesr, thus the resulting sentences are ordered from most to least relevant.</p>"
   ]
  },
  {
   "cell_type": "code",
   "execution_count": null,
   "id": "5186ad57",
   "metadata": {},
   "outputs": [],
   "source": []
  }
 ],
 "metadata": {
  "kernelspec": {
   "display_name": "Python 3 (ipykernel)",
   "language": "python",
   "name": "python3"
  },
  "language_info": {
   "codemirror_mode": {
    "name": "ipython",
    "version": 3
   },
   "file_extension": ".py",
   "mimetype": "text/x-python",
   "name": "python",
   "nbconvert_exporter": "python",
   "pygments_lexer": "ipython3",
   "version": "3.11.1"
  }
 },
 "nbformat": 4,
 "nbformat_minor": 5
}
